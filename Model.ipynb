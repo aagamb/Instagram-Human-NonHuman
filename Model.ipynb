{
 "cells": [
  {
   "cell_type": "code",
   "execution_count": 23,
   "metadata": {},
   "outputs": [],
   "source": [
    "import instaloader\n",
    "import tensorflow as tf\n",
    "import os\n",
    "import random\n",
    "from shutil import copyfile\n",
    "\n",
    "from PIL import Image\n",
    "from numpy import asarray\n",
    "from keras.preprocessing import image\n",
    "from keras.preprocessing.image import ImageDataGenerator\n",
    "from IPython.display import Image, display\n",
    "import h5py\n",
    "import numpy as np\n"
   ]
  },
  {
   "cell_type": "code",
   "execution_count": 19,
   "metadata": {},
   "outputs": [
    {
     "name": "stdout",
     "output_type": "stream",
     "text": [
      "Note: you may need to restart the kernel to use updated packages.\n"
     ]
    }
   ],
   "source": []
  },
  {
   "cell_type": "code",
   "execution_count": null,
   "metadata": {},
   "outputs": [],
   "source": [
    "L = instaloader.Instaloader()\n",
    "\n",
    "L.get_hashtag_posts('urbanphotography')"
   ]
  },
  {
   "cell_type": "code",
   "execution_count": 8,
   "metadata": {},
   "outputs": [
    {
     "name": "stdout",
     "output_type": "stream",
     "text": [
      "Train and Test directories already created\n",
      "all necessary directories already created\n",
      "all necessary directories already created\n",
      "all necessary directories already created\n",
      "all necessary directories already created\n"
     ]
    },
    {
     "data": {
      "text/plain": [
       "['Cat', 'Dog', 'Human', 'Not Human']"
      ]
     },
     "execution_count": 8,
     "metadata": {},
     "output_type": "execute_result"
    }
   ],
   "source": [
    "dir_list = os.listdir('A:/python_data/Instagram Classifier/data orig')\n",
    "    \n",
    "\n",
    "try:\n",
    "    os.mkdir('A:/python_data/Instagram Classifier/data formatted/train')\n",
    "    os.mkdir('A:/python_data/Instagram Classifier/data formatted/test')\n",
    "    \n",
    "except:\n",
    "    print('Train and Test directories already created')\n",
    "    \n",
    "for item in dir_list:\n",
    "    try:\n",
    "        os.mkdir('A:/python_data/Instagram Classifier/data formatted/train/' + item)\n",
    "        os.mkdir('A:/python_data/Instagram Classifier/data formatted/test/' + item)\n",
    "    except:\n",
    "        print('all necessary directories already created')\n",
    "        \n",
    "SOURCE = 'A:/python_data/Instagram Classifier/data orig/'\n",
    "\n",
    "\n",
    "for item in dir_list:\n",
    "    #creating list of all images in each directory\n",
    "    dir_image_list = os.listdir(SOURCE + item + '/')\n",
    "    #we will append image file paths of all the images which are readable and are greater than 4kb\n",
    "    proper_images_list = []\n",
    "    \n",
    "    #going through the list of all images in the directory\n",
    "    for image in dir_image_list:\n",
    "        file_path = SOURCE + item + '/' + image\n",
    "        \n",
    "        #size of image should be greater than 4 kb\n",
    "        if os.path.getsize(file_path)/1024 > 4:\n",
    "            proper_images_list.append(image)\n",
    "        else:\n",
    "            continue\n",
    "        \n",
    "    length = len(proper_images_list)\n",
    "    \n",
    "    #splitting training and testing set into 90% and 10%\n",
    "    split_point = int(length *0.9)\n",
    "    \n",
    "    #shuffling the list\n",
    "    shuffled = random.sample(proper_images_list, length)\n",
    "    \n",
    "    train_proper_images_list = shuffled[:split_point]\n",
    "    test_proper_images_list = shuffled[split_point:]\n",
    "    \n",
    "    TRAINING = 'A:/python_data/Instagram Classifier/data formatted/train/' + item + '/'\n",
    "    TESTING = 'A:/python_data/Instagram Classifier/data formatted/test/' + item + '/'\n",
    "    \n",
    "    for file_name in train_proper_images_list:\n",
    "        try:\n",
    "            #this is a check of whether the system can read the image\n",
    "            #some images even though windows explorer opens them, tensorflow doesn't like it\n",
    "            #if the follwing line of code work, then there is no issue with the image\n",
    "            byteImg = Image.open(file_directory)\n",
    "            \n",
    "            copyfile(SOURCE + item + '/' + file_name , TRAINING + file_name)\n",
    "            \n",
    "        except:\n",
    "            continue\n",
    "    \n",
    "    for file_name in test_proper_images_list:\n",
    "        try:\n",
    "            copyfile(SOURCE + item + '/' + file_name , TESTING + file_name)\n",
    "        except:\n",
    "            continue\n",
    "    \n",
    "    print('training and testing directories creates, and images added for ', item)\n",
    "    \n"
   ]
  },
  {
   "cell_type": "code",
   "execution_count": 18,
   "metadata": {},
   "outputs": [
    {
     "name": "stdout",
     "output_type": "stream",
     "text": [
      "Found 2122 images belonging to 2 classes.\n",
      "Found 2122 images belonging to 2 classes.\n"
     ]
    }
   ],
   "source": [
    "model = tf.keras.models.Sequential([\n",
    "    tf.keras.layers.Conv2D(16, (3,3), activation = 'relu', input_shape = (300, 300,3)),\n",
    "    tf.keras.layers.MaxPooling2D(2,2),\n",
    "    \n",
    "    tf.keras.layers.Conv2D(32, (3,3),  activation='relu'),\n",
    "    tf.keras.layers.MaxPooling2D(2,2),\n",
    "    \n",
    "    tf.keras.layers.Conv2D(64, (3,3),  activation='relu'),\n",
    "    tf.keras.layers.MaxPooling2D(2,2),\n",
    "    \n",
    "    tf.keras.layers.Conv2D(64, (3,3),  activation='relu'),\n",
    "    tf.keras.layers.MaxPooling2D(2,2),\n",
    "    \n",
    "    tf.keras.layers.Flatten(),\n",
    "    tf.keras.layers.Dense(512, activation = 'relu'),\n",
    "    tf.keras.layers.Dense(2, activation = 'softmax')\n",
    "])\n",
    "\n",
    "model.compile(loss = 'categorical_crossentropy', \n",
    "             optimizer = 'adam', \n",
    "             metrics= 'accuracy')\n",
    "\n",
    "#normalizing data\n",
    "train_datagen = ImageDataGenerator(\n",
    "    rescale = 1/255,\n",
    "    rotation_range = 40,\n",
    "    width_shift_range = 0.2,\n",
    "    shear_range = 0.2,\n",
    "    zoom_range =0.2,\n",
    "    horizontal_flip = True,\n",
    "    fill_mode = 'nearest'\n",
    ")\n",
    "\n",
    "train_generator = train_datagen.flow_from_directory(\n",
    "    'A:/python_data/Instagram Classifier/data formatted/train/',\n",
    "    target_size = (300,300),\n",
    "    batch_size = 100,\n",
    "    class_mode = \"categorical\"\n",
    ")\n",
    "\n",
    "\n",
    "validation_datagen = ImageDataGenerator(\n",
    "    rescale=1 / 255,\n",
    ")\n",
    "\n",
    "\n",
    "validation_generator = validation_datagen.flow_from_directory(\n",
    "    'A:/python_data/Instagram Classifier/data formatted/train/',\n",
    "    batch_size=100,\n",
    "    class_mode='categorical',\n",
    "    target_size=(300, 300)\n",
    ")\n",
    "\n"
   ]
  },
  {
   "cell_type": "code",
   "execution_count": 21,
   "metadata": {},
   "outputs": [
    {
     "name": "stdout",
     "output_type": "stream",
     "text": [
      "22/22 [==============================] - 110s 5s/step - loss: 0.8099 - accuracy: 0.6131 - val_loss: 0.5503 - val_accuracy: 0.7267\n"
     ]
    }
   ],
   "source": [
    "final_model  = model.fit(\n",
    "    train_generator,\n",
    "    steps_per_epoch =22,\n",
    "    epochs = 1,\n",
    "    verbose = 1,\n",
    "    validation_data=validation_generator\n",
    ")\n",
    "\n",
    "model.save('my_model.h5')\n"
   ]
  },
  {
   "cell_type": "code",
   "execution_count": 24,
   "metadata": {},
   "outputs": [
    {
     "name": "stdout",
     "output_type": "stream",
     "text": [
      "The class of the image is  [0. 1.]\n"
     ]
    }
   ],
   "source": [
    "def predictor(img_dir):\n",
    "    img = image.load_img(img_dir, target_size = (300,300))\n",
    "    x = image.img_to_array(img)\n",
    "    x = np.expand_dims(x, axis = 0) #increases the dimension of the array by one. if 1D, becomes 2D.\n",
    "                                    #axis = 0 ==> shape = (1, length)\n",
    "                                    #here, it changes shape from (300, 300, 3) to (1,300,300,3)\n",
    "    images = np.vstack([x]) #stacks the array vertically (the shape does not change for some reason)\n",
    "    classes = model.predict(images, batch_size = 10)\n",
    "\n",
    "    print('The class of the image is ', np.squeeze(classes[0]))\n",
    "    \n",
    "    classes = np.squeeze(classes[0])\n",
    "    \n",
    "predictor('A:/python_data/fruits/data formatted/training/banana/image28.jpeg')"
   ]
  },
  {
   "cell_type": "code",
   "execution_count": null,
   "metadata": {},
   "outputs": [],
   "source": []
  }
 ],
 "metadata": {
  "kernelspec": {
   "display_name": "Python 3",
   "language": "python",
   "name": "python3"
  },
  "language_info": {
   "codemirror_mode": {
    "name": "ipython",
    "version": 3
   },
   "file_extension": ".py",
   "mimetype": "text/x-python",
   "name": "python",
   "nbconvert_exporter": "python",
   "pygments_lexer": "ipython3",
   "version": "3.7.6"
  }
 },
 "nbformat": 4,
 "nbformat_minor": 4
}
